{
 "metadata": {
  "language_info": {
   "codemirror_mode": {
    "name": "ipython",
    "version": 3
   },
   "file_extension": ".py",
   "mimetype": "text/x-python",
   "name": "python",
   "nbconvert_exporter": "python",
   "pygments_lexer": "ipython3",
   "version": "3.9.1-final"
  },
  "orig_nbformat": 2,
  "kernelspec": {
   "name": "python3",
   "display_name": "Python 3.9.1 64-bit",
   "metadata": {
    "interpreter": {
     "hash": "e7a26f5bebd1b9da0f051359361ac514eb1c970e7ede8197699eeb788ac44870"
    }
   }
  }
 },
 "nbformat": 4,
 "nbformat_minor": 2,
 "cells": [
  {
   "source": [
    "# My First Notebook\n",
    "\n",
    "This cell will render as _rich-formatted text_ when it is evaluated. In order to make a cell markdown, click the M-down arrow button on the cell header.\n",
    "\n",
    "## Subheadings and other formats\n",
    "\n",
    "* Bulleted lists with stars\n",
    "* **boled text**\n",
    "* [Links to web pages](https://www.google.com)"
   ],
   "cell_type": "markdown",
   "metadata": {}
  },
  {
   "cell_type": "code",
   "execution_count": 3,
   "metadata": {},
   "outputs": [
    {
     "output_type": "stream",
     "name": "stdout",
     "text": [
      "Hello, Elias\n"
     ]
    }
   ],
   "source": [
    "name: str = \"Elias\"\n",
    "print(f\"Hello, {name}\")"
   ]
  },
  {
   "source": [
    "## Keyboard Shortcuts to know\n",
    "\n",
    "`Control + Enter` - Evaluates the current cell.\n",
    "\n",
    "`Shift + Enter` - Evaluates the current cell and moves focus to next cell."
   ],
   "cell_type": "markdown",
   "metadata": {}
  },
  {
   "cell_type": "code",
   "execution_count": 4,
   "metadata": {},
   "outputs": [
    {
     "output_type": "stream",
     "name": "stdout",
     "text": [
      "Wow, Elias, you are doing great!\n"
     ]
    }
   ],
   "source": [
    "print(f\"Wow, {name}, you are doing great!\")"
   ]
  },
  {
   "source": [
    "## The last expression of a cell is printed by default"
   ],
   "cell_type": "markdown",
   "metadata": {}
  },
  {
   "cell_type": "code",
   "execution_count": 9,
   "metadata": {},
   "outputs": [
    {
     "output_type": "stream",
     "name": "stdout",
     "text": [
      "The result is\nMultiple print statements leads to multiple lines in a cell output\n"
     ]
    },
    {
     "output_type": "execute_result",
     "data": {
      "text/plain": [
       "41.400000000000006"
      ]
     },
     "metadata": {},
     "execution_count": 9
    }
   ],
   "source": [
    "result: float = 3.14 * 10\n",
    "print(\"The result is\")\n",
    "print(\"Multiple print statements leads to multiple lines in a cell output\")\n",
    "result + 10"
   ]
  }
 ]
}